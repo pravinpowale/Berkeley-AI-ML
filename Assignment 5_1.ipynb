{
 "cells": [
  {
   "cell_type": "markdown",
   "metadata": {
    "id": "CcUT6Fon_qRE"
   },
   "source": [
    "### Required Assignment 5.1: Will the Customer Accept the Coupon?\n",
    "\n",
    "**Context**\n",
    "\n",
    "Imagine driving through town and a coupon is delivered to your cell phone for a restaurant near where you are driving. Would you accept that coupon and take a short detour to the restaurant? Would you accept the coupon but use it on a subsequent trip? Would you ignore the coupon entirely? What if the coupon was for a bar instead of a restaurant? What about a coffee house? Would you accept a bar coupon with a minor passenger in the car? What about if it was just you and your partner in the car? Would weather impact the rate of acceptance? What about the time of day?\n",
    "\n",
    "Obviously, proximity to the business is a factor on whether the coupon is delivered to the driver or not, but what are the factors that determine whether a driver accepts the coupon once it is delivered to them? How would you determine whether a driver is likely to accept a coupon?\n",
    "\n",
    "**Overview**\n",
    "\n",
    "The goal of this project is to use what you know about visualizations and probability distributions to distinguish between customers who accepted a driving coupon versus those that did not.\n",
    "\n",
    "**Data**\n",
    "\n",
    "This data comes to us from the UCI Machine Learning repository and was collected via a survey on Amazon Mechanical Turk. The survey describes different driving scenarios including the destination, current time, weather, passenger, etc., and then ask the person whether he will accept the coupon if he is the driver. Answers that the user will drive there ‘right away’ or ‘later before the coupon expires’ are labeled as ‘Y = 1’ and answers ‘no, I do not want the coupon’ are labeled as ‘Y = 0’.  There are five different types of coupons -- less expensive restaurants (under \\$20), coffee houses, carry out & take away, bar, and more expensive restaurants (\\$20 - $50)."
   ]
  },
  {
   "cell_type": "markdown",
   "metadata": {
    "id": "1wORvMBJ_qRF"
   },
   "source": [
    "**Deliverables**\n",
    "\n",
    "Your final product should be a brief report that highlights the differences between customers who did and did not accept the coupons.  To explore the data you will utilize your knowledge of plotting, statistical summaries, and visualization using Python. You will publish your findings in a public facing github repository as your first portfolio piece.\n",
    "\n",
    "\n",
    "\n"
   ]
  },
  {
   "cell_type": "markdown",
   "metadata": {
    "id": "pG6_Ym6q_qRG"
   },
   "source": [
    "### Data Description\n",
    "Keep in mind that these values mentioned below are average values.\n",
    "\n",
    "The attributes of this data set include:\n",
    "1. User attributes\n",
    "    -  Gender: male, female\n",
    "    -  Age: below 21, 21 to 25, 26 to 30, etc.\n",
    "    -  Marital Status: single, married partner, unmarried partner, or widowed\n",
    "    -  Number of children: 0, 1, or more than 1\n",
    "    -  Education: high school, bachelors degree, associates degree, or graduate degree\n",
    "    -  Occupation: architecture & engineering, business & financial, etc.\n",
    "    -  Annual income: less than \\\\$12500, \\\\$12500 - \\\\$24999, \\\\$25000 - \\\\$37499, etc.\n",
    "    -  Number of times that he/she goes to a bar: 0, less than 1, 1 to 3, 4 to 8 or greater than 8\n",
    "    -  Number of times that he/she buys takeaway food: 0, less than 1, 1 to 3, 4 to 8 or greater\n",
    "    than 8\n",
    "    -  Number of times that he/she goes to a coffee house: 0, less than 1, 1 to 3, 4 to 8 or\n",
    "    greater than 8\n",
    "    -  Number of times that he/she eats at a restaurant with average expense less than \\\\$20 per\n",
    "    person: 0, less than 1, 1 to 3, 4 to 8 or greater than 8\n",
    "    -  Number of times that he/she goes to a bar: 0, less than 1, 1 to 3, 4 to 8 or greater than 8\n",
    "    \n",
    "\n",
    "2. Contextual attributes\n",
    "    - Driving destination: home, work, or no urgent destination\n",
    "    - Location of user, coupon and destination: we provide a map to show the geographical\n",
    "    location of the user, destination, and the venue, and we mark the distance between each\n",
    "    two places with time of driving. The user can see whether the venue is in the same\n",
    "    direction as the destination.\n",
    "    - Weather: sunny, rainy, or snowy\n",
    "    - Temperature: 30F, 55F, or 80F\n",
    "    - Time: 10AM, 2PM, or 6PM\n",
    "    - Passenger: alone, partner, kid(s), or friend(s)\n",
    "\n",
    "\n",
    "3. Coupon attributes\n",
    "    - time before it expires: 2 hours or one day"
   ]
  },
  {
   "cell_type": "code",
   "execution_count": 1,
   "metadata": {
    "id": "dzNoP3o__qRG"
   },
   "outputs": [],
   "source": [
    "import matplotlib.pyplot as plt\n",
    "import seaborn as sns\n",
    "import pandas as pd\n",
    "import numpy as np"
   ]
  },
  {
   "cell_type": "markdown",
   "metadata": {
    "id": "Ct8pI1uE_qRG"
   },
   "source": [
    "### Problems\n",
    "\n",
    "Use the prompts below to get started with your data analysis.  \n",
    "\n",
    "1. Read in the `coupons.csv` file.\n",
    "\n",
    "\n"
   ]
  },
  {
   "cell_type": "code",
   "execution_count": 3,
   "metadata": {
    "id": "X0vbffYg_qRH"
   },
   "outputs": [],
   "source": [
    "data = pd.read_csv('data/coupons.csv')"
   ]
  },
  {
   "cell_type": "code",
   "execution_count": 5,
   "metadata": {
    "id": "TXofQ_DF_qRH",
    "outputId": "2fc96a2c-1112-4b54-f24f-dbb9bc88abfb",
    "scrolled": true
   },
   "outputs": [
    {
     "data": {
      "text/html": [
       "<div>\n",
       "<style scoped>\n",
       "    .dataframe tbody tr th:only-of-type {\n",
       "        vertical-align: middle;\n",
       "    }\n",
       "\n",
       "    .dataframe tbody tr th {\n",
       "        vertical-align: top;\n",
       "    }\n",
       "\n",
       "    .dataframe thead th {\n",
       "        text-align: right;\n",
       "    }\n",
       "</style>\n",
       "<table border=\"1\" class=\"dataframe\">\n",
       "  <thead>\n",
       "    <tr style=\"text-align: right;\">\n",
       "      <th></th>\n",
       "      <th>destination</th>\n",
       "      <th>passanger</th>\n",
       "      <th>weather</th>\n",
       "      <th>temperature</th>\n",
       "      <th>time</th>\n",
       "      <th>coupon</th>\n",
       "      <th>expiration</th>\n",
       "      <th>gender</th>\n",
       "      <th>age</th>\n",
       "      <th>maritalStatus</th>\n",
       "      <th>...</th>\n",
       "      <th>CoffeeHouse</th>\n",
       "      <th>CarryAway</th>\n",
       "      <th>RestaurantLessThan20</th>\n",
       "      <th>Restaurant20To50</th>\n",
       "      <th>toCoupon_GEQ5min</th>\n",
       "      <th>toCoupon_GEQ15min</th>\n",
       "      <th>toCoupon_GEQ25min</th>\n",
       "      <th>direction_same</th>\n",
       "      <th>direction_opp</th>\n",
       "      <th>Y</th>\n",
       "    </tr>\n",
       "  </thead>\n",
       "  <tbody>\n",
       "    <tr>\n",
       "      <th>0</th>\n",
       "      <td>No Urgent Place</td>\n",
       "      <td>Alone</td>\n",
       "      <td>Sunny</td>\n",
       "      <td>55</td>\n",
       "      <td>2PM</td>\n",
       "      <td>Restaurant(&lt;20)</td>\n",
       "      <td>1d</td>\n",
       "      <td>Female</td>\n",
       "      <td>21</td>\n",
       "      <td>Unmarried partner</td>\n",
       "      <td>...</td>\n",
       "      <td>never</td>\n",
       "      <td>NaN</td>\n",
       "      <td>4~8</td>\n",
       "      <td>1~3</td>\n",
       "      <td>1</td>\n",
       "      <td>0</td>\n",
       "      <td>0</td>\n",
       "      <td>0</td>\n",
       "      <td>1</td>\n",
       "      <td>1</td>\n",
       "    </tr>\n",
       "    <tr>\n",
       "      <th>1</th>\n",
       "      <td>No Urgent Place</td>\n",
       "      <td>Friend(s)</td>\n",
       "      <td>Sunny</td>\n",
       "      <td>80</td>\n",
       "      <td>10AM</td>\n",
       "      <td>Coffee House</td>\n",
       "      <td>2h</td>\n",
       "      <td>Female</td>\n",
       "      <td>21</td>\n",
       "      <td>Unmarried partner</td>\n",
       "      <td>...</td>\n",
       "      <td>never</td>\n",
       "      <td>NaN</td>\n",
       "      <td>4~8</td>\n",
       "      <td>1~3</td>\n",
       "      <td>1</td>\n",
       "      <td>0</td>\n",
       "      <td>0</td>\n",
       "      <td>0</td>\n",
       "      <td>1</td>\n",
       "      <td>0</td>\n",
       "    </tr>\n",
       "    <tr>\n",
       "      <th>2</th>\n",
       "      <td>No Urgent Place</td>\n",
       "      <td>Friend(s)</td>\n",
       "      <td>Sunny</td>\n",
       "      <td>80</td>\n",
       "      <td>10AM</td>\n",
       "      <td>Carry out &amp; Take away</td>\n",
       "      <td>2h</td>\n",
       "      <td>Female</td>\n",
       "      <td>21</td>\n",
       "      <td>Unmarried partner</td>\n",
       "      <td>...</td>\n",
       "      <td>never</td>\n",
       "      <td>NaN</td>\n",
       "      <td>4~8</td>\n",
       "      <td>1~3</td>\n",
       "      <td>1</td>\n",
       "      <td>1</td>\n",
       "      <td>0</td>\n",
       "      <td>0</td>\n",
       "      <td>1</td>\n",
       "      <td>1</td>\n",
       "    </tr>\n",
       "    <tr>\n",
       "      <th>3</th>\n",
       "      <td>No Urgent Place</td>\n",
       "      <td>Friend(s)</td>\n",
       "      <td>Sunny</td>\n",
       "      <td>80</td>\n",
       "      <td>2PM</td>\n",
       "      <td>Coffee House</td>\n",
       "      <td>2h</td>\n",
       "      <td>Female</td>\n",
       "      <td>21</td>\n",
       "      <td>Unmarried partner</td>\n",
       "      <td>...</td>\n",
       "      <td>never</td>\n",
       "      <td>NaN</td>\n",
       "      <td>4~8</td>\n",
       "      <td>1~3</td>\n",
       "      <td>1</td>\n",
       "      <td>1</td>\n",
       "      <td>0</td>\n",
       "      <td>0</td>\n",
       "      <td>1</td>\n",
       "      <td>0</td>\n",
       "    </tr>\n",
       "    <tr>\n",
       "      <th>4</th>\n",
       "      <td>No Urgent Place</td>\n",
       "      <td>Friend(s)</td>\n",
       "      <td>Sunny</td>\n",
       "      <td>80</td>\n",
       "      <td>2PM</td>\n",
       "      <td>Coffee House</td>\n",
       "      <td>1d</td>\n",
       "      <td>Female</td>\n",
       "      <td>21</td>\n",
       "      <td>Unmarried partner</td>\n",
       "      <td>...</td>\n",
       "      <td>never</td>\n",
       "      <td>NaN</td>\n",
       "      <td>4~8</td>\n",
       "      <td>1~3</td>\n",
       "      <td>1</td>\n",
       "      <td>1</td>\n",
       "      <td>0</td>\n",
       "      <td>0</td>\n",
       "      <td>1</td>\n",
       "      <td>0</td>\n",
       "    </tr>\n",
       "  </tbody>\n",
       "</table>\n",
       "<p>5 rows × 26 columns</p>\n",
       "</div>"
      ],
      "text/plain": [
       "       destination  passanger weather  temperature  time  \\\n",
       "0  No Urgent Place      Alone   Sunny           55   2PM   \n",
       "1  No Urgent Place  Friend(s)   Sunny           80  10AM   \n",
       "2  No Urgent Place  Friend(s)   Sunny           80  10AM   \n",
       "3  No Urgent Place  Friend(s)   Sunny           80   2PM   \n",
       "4  No Urgent Place  Friend(s)   Sunny           80   2PM   \n",
       "\n",
       "                  coupon expiration  gender age      maritalStatus  ...  \\\n",
       "0        Restaurant(<20)         1d  Female  21  Unmarried partner  ...   \n",
       "1           Coffee House         2h  Female  21  Unmarried partner  ...   \n",
       "2  Carry out & Take away         2h  Female  21  Unmarried partner  ...   \n",
       "3           Coffee House         2h  Female  21  Unmarried partner  ...   \n",
       "4           Coffee House         1d  Female  21  Unmarried partner  ...   \n",
       "\n",
       "   CoffeeHouse CarryAway RestaurantLessThan20 Restaurant20To50  \\\n",
       "0        never       NaN                  4~8              1~3   \n",
       "1        never       NaN                  4~8              1~3   \n",
       "2        never       NaN                  4~8              1~3   \n",
       "3        never       NaN                  4~8              1~3   \n",
       "4        never       NaN                  4~8              1~3   \n",
       "\n",
       "  toCoupon_GEQ5min toCoupon_GEQ15min toCoupon_GEQ25min direction_same  \\\n",
       "0                1                 0                 0              0   \n",
       "1                1                 0                 0              0   \n",
       "2                1                 1                 0              0   \n",
       "3                1                 1                 0              0   \n",
       "4                1                 1                 0              0   \n",
       "\n",
       "  direction_opp  Y  \n",
       "0             1  1  \n",
       "1             1  0  \n",
       "2             1  1  \n",
       "3             1  0  \n",
       "4             1  0  \n",
       "\n",
       "[5 rows x 26 columns]"
      ]
     },
     "execution_count": 5,
     "metadata": {},
     "output_type": "execute_result"
    }
   ],
   "source": [
    "data.head()"
   ]
  },
  {
   "cell_type": "markdown",
   "metadata": {
    "id": "GcDs78ZH_qRH"
   },
   "source": [
    "2. Investigate the dataset for missing or problematic data."
   ]
  },
  {
   "cell_type": "code",
   "execution_count": null,
   "metadata": {},
   "outputs": [],
   "source": []
  },
  {
   "cell_type": "code",
   "execution_count": null,
   "metadata": {},
   "outputs": [],
   "source": [
    "# Only following columns have null values\n",
    "#car                     12576\n",
    "#Bar                       107\n",
    "#CoffeeHouse               217\n",
    "#CarryAway                 151\n",
    "#RestaurantLessThan20      130\n",
    "#Restaurant20To50          189\n",
    "\n",
    "#The car column is not relevant for the analysis and can be safely ignored, even though it has only 108 non-null onjects nout of a total 12684\n",
    "#The other columns with null values are Bar (107), CoffeeHouse (217), CarryAway (151), RestaurantLessThan20 (130) and Restaurant20To50 (189).\n",
    "#The Maximum number of rows corresponding to null values in columns Bar, CoffeeHouse, CarryAway, RestaurantLessThan20 and Restaurant20To50 \n",
    "#is the sum of individual counts of null values in each of these columns, which is 794, which is approximately 6.26% of the rows. \n",
    "#Note that the actual count of rows with at least one of these columns having null values will be less than and equal to 794, as some rows may have\n",
    "#All these rows can be safely dropped without significantly impacting the analysis\n",
    "#null values in more than one column. But such an analysis is not really necessary as the maximum number is about 6.25% of the total number of rows.\n"
   ]
  },
  {
   "cell_type": "code",
   "execution_count": null,
   "metadata": {},
   "outputs": [],
   "source": []
  },
  {
   "cell_type": "markdown",
   "metadata": {
    "id": "bSdVSpYB_qRH"
   },
   "source": [
    "3. Decide what to do about your missing data -- drop, replace, other...\n",
    "4. Drop the null values. Replacing arbitrarily based upon distribution of counts in each column is another option which will lead to the similar results. Create a new dataframe data1\n"
   ]
  },
  {
   "cell_type": "markdown",
   "metadata": {
    "id": "YE6oJbXd_qRI"
   },
   "source": [
    "4. What proportion of the total observations chose to accept the coupon?\n",
    "\n"
   ]
  },
  {
   "cell_type": "code",
   "execution_count": 133,
   "metadata": {
    "id": "86GGqBTv_qRI"
   },
   "outputs": [
    {
     "name": "stdout",
     "output_type": "stream",
     "text": [
      "<class 'pandas.core.frame.DataFrame'>\n",
      "Index: 12079 entries, 22 to 12683\n",
      "Data columns (total 26 columns):\n",
      " #   Column                Non-Null Count  Dtype \n",
      "---  ------                --------------  ----- \n",
      " 0   destination           12079 non-null  object\n",
      " 1   passanger             12079 non-null  object\n",
      " 2   weather               12079 non-null  object\n",
      " 3   temperature           12079 non-null  int64 \n",
      " 4   time                  12079 non-null  object\n",
      " 5   coupon                12079 non-null  object\n",
      " 6   expiration            12079 non-null  object\n",
      " 7   gender                12079 non-null  object\n",
      " 8   age                   12079 non-null  object\n",
      " 9   maritalStatus         12079 non-null  object\n",
      " 10  has_children          12079 non-null  int64 \n",
      " 11  education             12079 non-null  object\n",
      " 12  occupation            12079 non-null  object\n",
      " 13  income                12079 non-null  object\n",
      " 14  car                   108 non-null    object\n",
      " 15  Bar                   12079 non-null  object\n",
      " 16  CoffeeHouse           12079 non-null  object\n",
      " 17  CarryAway             12079 non-null  object\n",
      " 18  RestaurantLessThan20  12079 non-null  object\n",
      " 19  Restaurant20To50      12079 non-null  object\n",
      " 20  toCoupon_GEQ5min      12079 non-null  int64 \n",
      " 21  toCoupon_GEQ15min     12079 non-null  int64 \n",
      " 22  toCoupon_GEQ25min     12079 non-null  int64 \n",
      " 23  direction_same        12079 non-null  int64 \n",
      " 24  direction_opp         12079 non-null  int64 \n",
      " 25  Y                     12079 non-null  int64 \n",
      "dtypes: int64(8), object(18)\n",
      "memory usage: 2.5+ MB\n",
      "6877\n",
      "12079\n",
      "Acceptance rate =  0.5693352098683666\n"
     ]
    }
   ],
   "source": [
    "## STEP 1\n",
    "\n",
    "# data1 is the new dataframe used for the rest of the analysis after dropping the null values\n",
    "\n",
    "data1 = data.dropna(subset=[col for col in data.columns if col != 'car'])\n",
    "data1.info()\n",
    "# y-count1 is the count of all rowws (coupons) that were accepted (Y = 1)\n",
    "#\n",
    "y_count1 = sum(data1.query(\"Y == 1\")['Y'])\n",
    "print(y_count1)\n",
    "# \n",
    "# Print total count of coupons in data1\n",
    "print(data1.shape[0])\n",
    "#\n",
    "# total_acc_rt = ratio of y_count1 and total number of rows in data1\n",
    "# we will proceed with data1 as the cleaned up dataframe version\n",
    "total_acc_rt = y_count1/data1.shape[0]\n",
    "#\n",
    "print(\"Acceptance rate = \", total_acc_rt)\n"
   ]
  },
  {
   "cell_type": "markdown",
   "metadata": {
    "id": "vflz0DoE_qRI"
   },
   "source": [
    "5. Use a bar plot to visualize the `coupon` column."
   ]
  },
  {
   "cell_type": "code",
   "execution_count": 87,
   "metadata": {
    "id": "dHFh3E45_qRI"
   },
   "outputs": [
    {
     "data": {
      "text/plain": [
       "([0, 1, 2, 3, 4],\n",
       " [Text(0, 0, 'Restaurant(<20)'),\n",
       "  Text(1, 0, 'Coffee House'),\n",
       "  Text(2, 0, 'Bar'),\n",
       "  Text(3, 0, 'Carry out & Take away'),\n",
       "  Text(4, 0, 'Restaurant(20-50)')])"
      ]
     },
     "execution_count": 87,
     "metadata": {},
     "output_type": "execute_result"
    },
    {
     "data": {
      "image/png": "[encoded data removed]",
      "text/plain": [
       "<Figure size 640x480 with 1 Axes>"
      ]
     },
     "metadata": {},
     "output_type": "display_data"
    }
   ],
   "source": [
    "## STEP 2 (Plot bar plot of counts of coupons of each coupon-type)\n",
    "##\n",
    "sns.countplot(data = data1, x='coupon', hue='coupon')\n",
    "plt.xlabel('Coupon Type')\n",
    "plt.ylabel('Coupon Counts')\n",
    "plt.title('Bar Plot for Coupon Type Counts')\n",
    "plt.xticks(rotation = 90)\n"
   ]
  },
  {
   "cell_type": "markdown",
   "metadata": {
    "id": "Qw4lCyx2_qRI"
   },
   "source": [
    "6. Use a histogram to visualize the temperature column."
   ]
  },
  {
   "cell_type": "code",
   "execution_count": 107,
   "metadata": {
    "id": "Yg9Anv71_qRI"
   },
   "outputs": [
    {
     "data": {
      "text/plain": [
       "Text(0.5, 1.0, 'Temperature Histogram')"
      ]
     },
     "execution_count": 107,
     "metadata": {},
     "output_type": "execute_result"
    },
    {
     "data": {
      "image/png": "[encoded data removed]",
      "text/plain": [
       "<Figure size 640x480 with 1 Axes>"
      ]
     },
     "metadata": {},
     "output_type": "display_data"
    }
   ],
   "source": [
    "## STEP 3 (Create a histogram for the temperature column)\n",
    "##\n",
    "sns.histplot(data=data1, x='temperature')\n",
    "plt.xlabel('Temperature (degrees Fahrenheit)')\n",
    "plt.ylabel('Row Counts')\n",
    "plt.title('Temperature Histogram')\n"
   ]
  },
  {
   "cell_type": "code",
   "execution_count": null,
   "metadata": {
    "id": "zLtOaJQk_qRI"
   },
   "outputs": [],
   "source": []
  },
  {
   "cell_type": "code",
   "execution_count": null,
   "metadata": {
    "id": "7GBHZKBp_qRJ"
   },
   "outputs": [],
   "source": []
  },
  {
   "cell_type": "code",
   "execution_count": null,
   "metadata": {
    "id": "Y5nBUA-j_qRJ"
   },
   "outputs": [],
   "source": []
  },
  {
   "cell_type": "code",
   "execution_count": null,
   "metadata": {
    "id": "ShcUC-Vm_qRJ"
   },
   "outputs": [],
   "source": []
  },
  {
   "cell_type": "markdown",
   "metadata": {
    "id": "FupfgeJk_qRJ"
   },
   "source": [
    "**Investigating the Bar Coupons**\n",
    "\n",
    "Now, we will lead you through an exploration of just the bar related coupons.  \n",
    "\n",
    "1. Create a new `DataFrame` that contains just the bar coupons.\n"
   ]
  },
  {
   "cell_type": "code",
   "execution_count": 111,
   "metadata": {
    "id": "tMBlWuGq_qRJ"
   },
   "outputs": [
    {
     "data": {
      "text/plain": [
       "1913"
      ]
     },
     "execution_count": 111,
     "metadata": {},
     "output_type": "execute_result"
    }
   ],
   "source": [
    "## STEP 4\n",
    "#\n",
    "## Select coupon type as Bar excluding all other coupon types\n",
    "data_bar = data1.query(\"coupon == 'Bar'\")\n",
    "\n",
    "# Number of Bar coupons in data1 is given by data_bar.shape[0]\n",
    "data_bar.shape[0]\n"
   ]
  },
  {
   "cell_type": "markdown",
   "metadata": {
    "id": "8ue6uCqf_qRJ"
   },
   "source": [
    "2. What proportion of bar coupons were accepted?\n"
   ]
  },
  {
   "cell_type": "code",
   "execution_count": 115,
   "metadata": {
    "id": "hSdte8Mi_qRK"
   },
   "outputs": [
    {
     "name": "stdout",
     "output_type": "stream",
     "text": [
      "788\n",
      "0.41191845269210664\n"
     ]
    }
   ],
   "source": [
    "## STEP 5 - Calculate bar coupon acceptance rate\n",
    "# bar_acc is the number of Bar coupons accepted (Y = 1) \n",
    "bar_acc = (data_bar.query(\"Y == 1\")['Bar']).count()\n",
    "\n",
    "# bar_acc_rt is the fraction of bar coupons that were accepted by the passengers (about 41%)\n",
    "bar_acc_rt = bar_acc / data_bar.shape[0]\n",
    "\n",
    "print(bar_acc)\n",
    "print(bar_acc_rt)\n",
    "\n",
    "# "
   ]
  },
  {
   "cell_type": "markdown",
   "metadata": {
    "id": "85nA_iEi_qRK"
   },
   "source": [
    "3. Compare the acceptance rate between those who went to a bar 3 or fewer times a month to those who went more.\n"
   ]
  },
  {
   "cell_type": "code",
   "execution_count": 119,
   "metadata": {
    "id": "LBOrN-XM_qRK"
   },
   "outputs": [
    {
     "name": "stdout",
     "output_type": "stream",
     "text": [
      "492\n",
      "147\n",
      "149\n",
      "0.6243654822335025\n",
      "0.1865482233502538\n",
      "0.18908629441624367\n"
     ]
    }
   ],
   "source": [
    "## STEP 6 - compare acceptance rates for the categories below:\n",
    "# 1. bar_acc_le3 = count of passengers who went to a bar 3 or fewer times a month\n",
    "# 2. bar_acc_gt3 = count of passengers who went to a bar more than 3 times a month\n",
    "# 3. bar_acc_never = count of passengers who never went to bar\n",
    "\n",
    "bar_acc_le3 = (data_bar.query(\"(Bar == 'less1' | Bar == '1~3') & Y == 1\")['Bar']).count()\n",
    "bar_acc_le3_rt = bar_acc_le3 / bar_acc\n",
    "bar_acc_gt3 = (data_bar.query(\"(Bar == '4~8' | Bar == 'gt8') & Y == 1\")['Bar']).count()\n",
    "bar_acc_gt3_rt = bar_acc_gt3 / bar_acc\n",
    "\n",
    "bar_acc_never = (data_bar.query(\"Bar == 'never' & Y == 1\")['Bar']).count()\n",
    "bar_acc_never_rt = bar_acc_never / bar_acc\n",
    "\n",
    "print(bar_acc_le3)\n",
    "print(bar_acc_gt3)\n",
    "print(bar_acc_never)\n",
    "print(bar_acc_le3_rt)\n",
    "print(bar_acc_gt3_rt)\n",
    "print(bar_acc_never_rt)\n"
   ]
  },
  {
   "cell_type": "markdown",
   "metadata": {
    "id": "RBgcQwH4_qRK"
   },
   "source": [
    "4. Compare the acceptance rate between drivers who go to a bar more than once a month and are over the age of 25 to the all others.  Is there a difference?\n"
   ]
  },
  {
   "cell_type": "code",
   "execution_count": 121,
   "metadata": {
    "id": "bf28bbeX_qRK"
   },
   "outputs": [
    {
     "name": "stdout",
     "output_type": "stream",
     "text": [
      "510\n",
      "278\n",
      "0.35279187817258884\n",
      "0.6472081218274112\n"
     ]
    }
   ],
   "source": [
    "## STEP 7 - Compare acceptance rates for drivers who visit bar > 1 times a month and are > 25 years old v/s all other drivers\n",
    "#\n",
    "\n",
    "age_gt25 = ['26', '31', '36', '41', '46', '50plus']\n",
    "bargt1 = ['less1', 'never']\n",
    "\n",
    "bar_gt1_gt25yr = (data_bar.query(\"Bar not in @bargt1 & age in @age_gt25 & Y == 1\"))['Bar'].count()\n",
    "bar_all_oth = (data_bar.query(\"(Bar in @bargt1 | age not in @age_gt25) & Y == 1\"))['Bar'].count()\n",
    "\n",
    "bar_gt1_gt25yr_rt = bar_gt1_gt25yr / bar_acc\n",
    "bar_all_oth_rt = bar_all_oth / bar_acc\n",
    "\n",
    "print(bar_all_oth)\n",
    "print(bar_gt1_gt25yr)\n",
    "print(bar_gt1_gt25yr_rt)\n",
    "print(bar_all_oth_rt)\n"
   ]
  },
  {
   "cell_type": "markdown",
   "metadata": {
    "id": "S4RKT4PJ_qRK"
   },
   "source": [
    "5. Use the same process to compare the acceptance rate between drivers who go to bars more than once a month and had passengers that were not a kid and had occupations other than farming, fishing, or forestry.\n"
   ]
  },
  {
   "cell_type": "code",
   "execution_count": 123,
   "metadata": {
    "id": "sENaI2Tg_qRK"
   },
   "outputs": [
    {
     "name": "stdout",
     "output_type": "stream",
     "text": [
      "530\n",
      "572\n",
      "0.6725888324873096\n",
      "0.7258883248730964\n"
     ]
    }
   ],
   "source": [
    "## STEP 8 - Similar acceptance rate analysis as in STEP 6 for the following categories of drivers\n",
    "## - drivers who visit bar > 1 times a month and no kids as passenger\n",
    "## - drivers who visit bar > 1 times a month and had occupations other than farming, fishing, or forestry\n",
    "#\n",
    "\n",
    "excl_occlist = ['farming', 'fishing', 'forestry']\n",
    "bar_gt1_nokid =  (data_bar.query(\"Bar != 'less1' & Bar != 'never' & not passanger.str.contains('Kid')\"))['Bar'].count()\n",
    "bar_gt1_occlist = (data_bar.query(\"Bar != 'less1' & Bar != 'never' & occupation not in @excl_occlist\"))['Bar'].count()\n",
    "bar_gt1_nokid_rt = bar_gt1_nokid / bar_acc\n",
    "bar_gt1_occlist_rt = bar_gt1_occlist / bar_acc\n",
    "print(bar_gt1_nokid)\n",
    "print(bar_gt1_occlist)\n",
    "print(bar_gt1_nokid_rt)\n",
    "print(bar_gt1_occlist_rt)"
   ]
  },
  {
   "cell_type": "markdown",
   "metadata": {
    "id": "n2LIUTil_qRK"
   },
   "source": [
    "6. Compare the acceptance rates between those drivers who:\n",
    "\n",
    "- go to bars more than once a month, had passengers that were not a kid, and were not widowed *OR*\n",
    "- go to bars more than once a month and are under the age of 30 *OR*\n",
    "- go to cheap restaurants more than 4 times a month and income is less than 50K.\n",
    "\n"
   ]
  },
  {
   "cell_type": "code",
   "execution_count": 125,
   "metadata": {},
   "outputs": [
    {
     "name": "stdout",
     "output_type": "stream",
     "text": [
      "765\n"
     ]
    }
   ],
   "source": [
    "## temporary calculation - can be ignored\n",
    "\n",
    "under_30 = ['21', '26']\n",
    "bar_under_30 = (data_bar.query(\"age in @under_30\"))['Bar'].count()\n",
    "print(bar_under_30)"
   ]
  },
  {
   "cell_type": "code",
   "execution_count": 127,
   "metadata": {
    "id": "aK_wEzx7_qRK"
   },
   "outputs": [
    {
     "name": "stdout",
     "output_type": "stream",
     "text": [
      "530\n",
      "309\n",
      "243\n",
      "0.6725888324873096\n",
      "0.39213197969543145\n",
      "0.3083756345177665\n"
     ]
    }
   ],
   "source": [
    "## STEP 9 - Comapre the acceptance rates of the following three types of driver categories\n",
    "\n",
    "#- go to bars more than once a month, had passengers that were not a kid, and were not widowed *OR*\n",
    "#- go to bars more than once a month and are under the age of 30 *OR*\n",
    "#- go to cheap restaurants more than 4 times a month and income is less than 50K.\n",
    "\n",
    "under_30 = ['21', '26']\n",
    "bar_gt1_nokid_nowidow = (data_bar.query(\"Bar != 'less1' & Bar != 'never' & not passanger.str.contains('Kid') & maritalStatus != 'Widowed'\"))['Bar'].count() \n",
    "print(bar_gt1_nokid_nowidow)\n",
    "\n",
    "bar_gt1_under30 = (data_bar.query(\"Bar != 'less1' & Bar != 'never' & not passanger.str.contains('Kid') & age in @under_30\"))['Bar'].count()\n",
    "print(bar_gt1_under30)\n",
    "\n",
    "gt4 = ['4~8', 'gt8']\n",
    "less50k = ['$12500 - $24999', '$25000 - $37499', '$25000 - $37499', 'Less than $12500']\n",
    "cheap_gt4_less50k = (data_bar.query(\"RestaurantLessThan20 in @gt4 & income in @less50k\"))['Bar'].count()\n",
    "print(cheap_gt4_less50k)\n",
    "\n",
    "bar_gt1_nokid_nowidow_rt = bar_gt1_nokid_nowidow / bar_acc\n",
    "bar_gt1_under30_rt = bar_gt1_under30 / bar_acc\n",
    "cheap_gt4_less50k_rt = cheap_gt4_less50k / bar_acc\n",
    "\n",
    "print(bar_gt1_nokid_nowidow_rt)\n",
    "print(bar_gt1_under30_rt)\n",
    "print(cheap_gt4_less50k_rt)"
   ]
  },
  {
   "cell_type": "markdown",
   "metadata": {
    "id": "v3fL3QkO_qRK"
   },
   "source": [
    "7.  Based on these observations, what do you hypothesize about drivers who accepted the bar coupons?"
   ]
  },
  {
   "cell_type": "code",
   "execution_count": null,
   "metadata": {
    "id": "Y48naDFh_qRL"
   },
   "outputs": [],
   "source": [
    "## Please see the README.docx attached with the submission for item 7 above"
   ]
  },
  {
   "cell_type": "code",
   "execution_count": 237,
   "metadata": {
    "scrolled": true
   },
   "outputs": [
    {
     "name": "stdout",
     "output_type": "stream",
     "text": [
      "Acceptance rate =  0.5693352098683666\n",
      "Ignore coupon rate =  0.4306647901316334\n",
      "Bar acceptance rate =  0.41191845269210664\n",
      "Bar acceptance with minor passenger =  0.050761421319796954\n",
      "Bar acceptance with partner =  0.1281725888324873\n",
      "0.46207497820401044\n",
      "0.4763335837716003\n",
      "0.5950421831059265\n",
      "  weather  acc_rate\n",
      "0   Rainy  0.462075\n",
      "1   Snowy  0.476334\n",
      "2   Sunny  0.595042\n"
     ]
    },
    {
     "data": {
      "text/plain": [
       "Text(0.5, 1.0, 'Bar Plot of Acceptnace rate v/s Weather Type')"
      ]
     },
     "execution_count": 237,
     "metadata": {},
     "output_type": "execute_result"
    },
    {
     "data": {
      "image/png": "[encoded data removed]",
      "text/plain": [
       "<Figure size 640x480 with 1 Axes>"
      ]
     },
     "metadata": {},
     "output_type": "display_data"
    }
   ],
   "source": [
    "## STEP 10 - \n",
    "\n",
    "## Q1. Would you accept that coupon and take a short detour to the restaurant?\n",
    "## The answer given below is for all types of esatblishments taken together\n",
    "## the assumption here is that since the coupon expiration is either 2 hours or 1 day, the acceptance implies taking a detour\n",
    "## This was computed in STEP 1 as total_acc_rt\n",
    "print(\"Acceptance rate = \", total_acc_rt)\n",
    "#data1.info()\n",
    "\n",
    "## Q2. Would you accept the coupon but use it on a subsequent trip?\n",
    "## This cannot be determined, as additional information for such a determination is not available.\n",
    "\n",
    "## Q3. Would you ignore the coupon entirely?\n",
    "## This is 1 - total_acc_rt\n",
    "print(\"Ignore coupon rate = \", 1 - total_acc_rt)\n",
    "\n",
    "## Q4. What if the coupon was for a bar instead of a restaurant?\n",
    "## This was calculated as bar_acc in STEP 5\n",
    "print(\"Bar acceptance rate = \", bar_acc_rt)\n",
    "\n",
    "## Q5. What about a coffee house?\n",
    "## This is given in the Independent Investigation section below\n",
    "\n",
    "## Q6. Would you accept a bar coupon with a minor passenger in the car? This is computed as bar_acc_kid_rt\n",
    "bar_acc_kid =  (data_bar.query(\"passanger.str.contains('Kid') & Y == 1\"))['Bar'].count()\n",
    "bar_acc_kid_rt = bar_acc_kid / bar_acc\n",
    "print(\"Bar acceptance with minor passenger = \", bar_acc_kid_rt)\n",
    "\n",
    "## Q7. What about if it was just you and your partner in the car? \n",
    "bar_acc_partner =  (data_bar.query(\"passanger.str.contains('Partner') & Y == 1\"))['Bar'].count()\n",
    "bar_acc_partner_rt = bar_acc_partner / bar_acc\n",
    "print(\"Bar acceptance with partner = \", bar_acc_partner_rt)\n",
    "\n",
    "## Q8. Would weather impact the rate of acceptance?\n",
    "## this is shown in the bar plot below. All restaurent types are considered here.\n",
    "\n",
    "weather_acc_coupon =  (data1.query(\"Y == 1\"))['weather'].count()\n",
    "weather_coupon = data1['weather'].count()\n",
    "weather_acc_rt = weather_acc_coupon / weather_coupon\n",
    "\n",
    "weather_acc_rain =  (data1.query(\"Y == 1 & weather == 'Rainy'\"))['weather'].count()\n",
    "weather_rain = (data1.query(\"weather == 'Rainy'\"))['weather'].count()\n",
    "weather_acc_rain_rt = weather_acc_rain / weather_rain\n",
    "print(weather_acc_rain_rt)\n",
    "\n",
    "weather_acc_snow =  (data1.query(\"Y == 1 & weather == 'Snowy'\"))['weather'].count()\n",
    "weather_snow = (data1.query(\"weather == 'Snowy'\"))['weather'].count()\n",
    "weather_acc_snow_rt = weather_acc_snow / weather_snow\n",
    "print(weather_acc_snow_rt)\n",
    "\n",
    "weather_acc_sun =  (data1.query(\"Y == 1 & weather == 'Sunny'\"))['weather'].count()\n",
    "weather_sun = (data1.query(\"weather == 'Sunny'\"))['weather'].count()\n",
    "weather_acc_sun_rt = weather_acc_sun / weather_sun\n",
    "print(weather_acc_sun_rt)\n",
    "\n",
    "wthr = {'weather': ['Rainy', 'Snowy', 'Sunny'], 'acc_rate': [weather_acc_rain_rt, weather_acc_snow_rt, weather_acc_sun_rt]}\n",
    "wthr_df = pd.DataFrame(wthr)\n",
    "print(wthr_df)\n",
    "\n",
    "sns.barplot(data = wthr_df, x='weather', y='acc_rate', hue='weather')\n",
    "\n",
    "plt.xlabel('Weather')\n",
    "plt.ylabel('Acceptance Rate')\n",
    "plt.title('Bar Plot of Acceptnace rate v/s Weather Type')\n",
    "#plt.xticks(rotation = 90)\n",
    "\n"
   ]
  },
  {
   "cell_type": "code",
   "execution_count": 239,
   "metadata": {},
   "outputs": [
    {
     "name": "stdout",
     "output_type": "stream",
     "text": [
      "      destination  passanger   weather  temperature    coupon  expiration  \\\n",
      "time                                                                        \n",
      "10AM     0.607970   0.607970  0.607970     0.607970  0.607970    0.607970   \n",
      "10PM     0.515502   0.515502  0.515502     0.515502  0.515502    0.515502   \n",
      "2PM      0.660752   0.660752  0.660752     0.660752  0.660752    0.660752   \n",
      "6PM      0.582846   0.582846  0.582846     0.582846  0.582846    0.582846   \n",
      "7AM      0.503968   0.503968  0.503968     0.503968  0.503968    0.503968   \n",
      "\n",
      "        gender       age  maritalStatus  has_children  ...  CoffeeHouse  \\\n",
      "time                                                   ...                \n",
      "10AM  0.607970  0.607970       0.607970      0.607970  ...     0.607970   \n",
      "10PM  0.515502  0.515502       0.515502      0.515502  ...     0.515502   \n",
      "2PM   0.660752  0.660752       0.660752      0.660752  ...     0.660752   \n",
      "6PM   0.582846  0.582846       0.582846      0.582846  ...     0.582846   \n",
      "7AM   0.503968  0.503968       0.503968      0.503968  ...     0.503968   \n",
      "\n",
      "      CarryAway  RestaurantLessThan20  Restaurant20To50  toCoupon_GEQ5min  \\\n",
      "time                                                                        \n",
      "10AM   0.607970              0.607970          0.607970          0.607970   \n",
      "10PM   0.515502              0.515502          0.515502          0.515502   \n",
      "2PM    0.660752              0.660752          0.660752          0.660752   \n",
      "6PM    0.582846              0.582846          0.582846          0.582846   \n",
      "7AM    0.503968              0.503968          0.503968          0.503968   \n",
      "\n",
      "      toCoupon_GEQ15min  toCoupon_GEQ25min  direction_same  direction_opp  \\\n",
      "time                                                                        \n",
      "10AM           0.607970           0.607970        0.607970       0.607970   \n",
      "10PM           0.515502           0.515502        0.515502       0.515502   \n",
      "2PM            0.660752           0.660752        0.660752       0.660752   \n",
      "6PM            0.582846           0.582846        0.582846       0.582846   \n",
      "7AM            0.503968           0.503968        0.503968       0.503968   \n",
      "\n",
      "             Y  \n",
      "time            \n",
      "10AM  0.607970  \n",
      "10PM  0.515502  \n",
      "2PM   0.660752  \n",
      "6PM   0.582846  \n",
      "7AM   0.503968  \n",
      "\n",
      "[5 rows x 25 columns]\n"
     ]
    },
    {
     "data": {
      "text/plain": [
       "Text(0.5, 1.0, 'Bar Plot of Acceptnace rate v/s Time of the Day')"
      ]
     },
     "execution_count": 239,
     "metadata": {},
     "output_type": "execute_result"
    },
    {
     "data": {
      "image/png": "[encoded data removed]",
      "text/plain": [
       "<Figure size 640x480 with 1 Axes>"
      ]
     },
     "metadata": {},
     "output_type": "display_data"
    }
   ],
   "source": [
    "## Q9. What about the time of day?\n",
    "# I have used a different approach using groupby to get the answer instead of computing individual rates for each time\n",
    "\n",
    "condition = data1['Y'] == 1\n",
    "\n",
    "# Group by 'time' where the condition is True (Y = 1)\n",
    "time_acc = data1[condition].groupby('time').count()\n",
    "time_tot = data1.groupby('time').count()\n",
    "\n",
    "time_df = time_acc / time_tot\n",
    "time_df.reset_index()\n",
    "print(time_df)\n",
    "\n",
    "## each column has the acceptance rates for various times, which appear as rows\n",
    "## use any column (for example coupon) to plot the barplot of acceptance rate v/s time\n",
    "\n",
    "sns.barplot(data = time_df, x='time', y='coupon', hue='time')\n",
    "\n",
    "plt.xlabel('Time')\n",
    "plt.ylabel('Acceptance Rate')\n",
    "plt.title('Bar Plot of Acceptnace rate v/s Time of the Day')\n",
    "#plt.xticks(rotation = 90)\n",
    "\n",
    "## Note - the time axis does not contain time in the increasing order from left to right\n",
    "## The same can be achieved by adding a numeric column with military time (from 0000 hours to 2359) corresponding to time"
   ]
  },
  {
   "cell_type": "markdown",
   "metadata": {
    "id": "r4Hu1zOb_qRL"
   },
   "source": [
    "### Independent Investigation\n",
    "\n",
    "Using the bar coupon example as motivation, you are to explore one of the other coupon groups and try to determine the characteristics of passengers who accept the coupons.  "
   ]
  },
  {
   "cell_type": "code",
   "execution_count": null,
   "metadata": {
    "id": "0c71cQhu_qRL"
   },
   "outputs": [],
   "source": []
  },
  {
   "cell_type": "code",
   "execution_count": null,
   "metadata": {
    "id": "QEsBkvIN_qRL"
   },
   "outputs": [],
   "source": []
  },
  {
   "cell_type": "code",
   "execution_count": null,
   "metadata": {
    "id": "fTC2WGE3_qRL"
   },
   "outputs": [],
   "source": []
  },
  {
   "cell_type": "code",
   "execution_count": null,
   "metadata": {
    "id": "RrqUWn7d_qRL"
   },
   "outputs": [],
   "source": []
  },
  {
   "cell_type": "code",
   "execution_count": null,
   "metadata": {
    "id": "_oykf8YP_qRL"
   },
   "outputs": [],
   "source": []
  }
 ],
 "metadata": {
  "colab": {
   "provenance": []
  },
  "kernelspec": {
   "display_name": "Python 3 (ipykernel)",
   "language": "python",
   "name": "python3"
  },
  "language_info": {
   "codemirror_mode": {
    "name": "ipython",
    "version": 3
   },
   "file_extension": ".py",
   "mimetype": "text/x-python",
   "name": "python",
   "nbconvert_exporter": "python",
   "pygments_lexer": "ipython3",
   "version": "3.12.4"
  }
 },
 "nbformat": 4,
 "nbformat_minor": 4
}
